{
 "cells": [
  {
   "cell_type": "code",
   "execution_count": 2,
   "id": "9e420fc0",
   "metadata": {},
   "outputs": [
    {
     "name": "stdout",
     "output_type": "stream",
     "text": [
      "Page: 1\n",
      "Page: 2\n",
      "Page: 3\n",
      "Page: 4\n",
      "Page: 5\n",
      "Page: 6\n",
      "Page: 7\n",
      "Page: 8\n",
      "Page: 9\n",
      "Page: 9\n",
      "Finished retrieving cocktail recipes.\n"
     ]
    }
   ],
   "source": [
    "import requests\n",
    "import pandas as pd\n",
    "import time\n",
    "\n",
    "# Set up the API endpoint and parameters\n",
    "api_endpoint = \"https://api.edamam.com/search\"\n",
    "app_id = \"3618634a\"\n",
    "app_key = \"8733081a073b4e43504113a6fc0651a6\"\n",
    "dish_type = \"alcohol cocktail\"\n",
    "\n",
    "# Set up the request parameters\n",
    "params = {\"q\": \"\", \"app_id\": app_id, \"app_key\": app_key, \"dishType\": dish_type}\n",
    "\n",
    "# Set up a list to hold the recipe data\n",
    "recipe_data = []\n",
    "\n",
    "cnt_page = 0\n",
    "# Send the GET request to the API until all recipes have been retrieved\n",
    "while True:\n",
    "    # Send the GET request to the API\n",
    "    response = requests.get(api_endpoint, params=params)\n",
    "\n",
    "    # Check if the request was successful\n",
    "    if response.status_code == 200:\n",
    "        # Parse the response JSON data\n",
    "        response_data = response.json()\n",
    "\n",
    "        # Extract the cocktail recipes from the response\n",
    "        cocktail_recipes = response_data[\"hits\"]\n",
    "\n",
    "        # Loop through each recipe and extract the relevant data\n",
    "        for recipe in cocktail_recipes:\n",
    "            recipe_name = recipe[\"recipe\"][\"label\"]\n",
    "            ingredients = \", \".join(recipe[\"recipe\"][\"ingredientLines\"])\n",
    "            image_url = recipe[\"recipe\"][\"image\"]\n",
    "            calories = recipe[\"recipe\"][\"calories\"]\n",
    "\n",
    "            # Add the recipe data to the list\n",
    "            recipe_data.append((recipe_name, ingredients, image_url, calories))\n",
    "\n",
    "        # Check if all recipes have been retrieved\n",
    "        if len(recipe_data) == response_data[\"count\"]:\n",
    "            break\n",
    "\n",
    "        # Set the \"from\" parameter to retrieve the next set of recipes\n",
    "        params[\"from\"] = response_data[\"to\"] + 1\n",
    "        print(f\"Page: {int(len(set(recipe_data))/10)}\")\n",
    "        if cnt_page != int(len(set(recipe_data))/10):\n",
    "            cnt_page = int(len(set(recipe_data))/10)\n",
    "        else:\n",
    "            break\n",
    "        # Wait for 5 seconds before sending the next API request\n",
    "        time.sleep(5)\n",
    "    else:\n",
    "        print(\"Error: Failed to retrieve cocktail recipes from API.\")\n",
    "        break\n",
    "\n",
    "        \n",
    "        \n",
    "# Convert the recipe data list to a pandas DataFrame\n",
    "df = pd.DataFrame(recipe_data, columns=[\"Recipe Name\", \"Ingredients\", \"Image URL\", \"Calories\"])\n",
    "\n",
    "# Save the DataFrame to an Excel file\n",
    "df.to_excel(\"cocktail_recipes.xlsx\", index=False)\n",
    "\n",
    "print(\"Finished retrieving cocktail recipes.\")\n"
   ]
  }
 ],
 "metadata": {
  "kernelspec": {
   "display_name": "Python 3 (ipykernel)",
   "language": "python",
   "name": "python3"
  },
  "language_info": {
   "codemirror_mode": {
    "name": "ipython",
    "version": 3
   },
   "file_extension": ".py",
   "mimetype": "text/x-python",
   "name": "python",
   "nbconvert_exporter": "python",
   "pygments_lexer": "ipython3",
   "version": "3.9.7"
  }
 },
 "nbformat": 4,
 "nbformat_minor": 5
}
