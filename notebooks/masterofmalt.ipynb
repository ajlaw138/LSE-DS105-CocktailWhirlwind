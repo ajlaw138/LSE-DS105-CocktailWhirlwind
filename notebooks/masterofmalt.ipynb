{
 "cells": [
  {
   "cell_type": "markdown",
   "id": "cf7f9cc0",
   "metadata": {},
   "source": [
    "# https://www.masterofmalt.com/"
   ]
  },
  {
   "cell_type": "markdown",
   "id": "d34ae29a",
   "metadata": {},
   "source": [
    "Barware: https://www.masterofmalt.com/barware/\n",
    "\n",
    "Bitters: https://www.masterofmalt.com/bitters/\n",
    "\n",
    "~~ Books: https://www.masterofmalt.com/books-and-posters/ Pass ~~ \n",
    "\n",
    "Fruit Purees: https://www.masterofmalt.com/fruit-purees/ \n",
    "\n",
    "~~ Glassware: https://www.masterofmalt.com/glassware/ Pass~~ \n",
    "\n",
    "~~Liqueurs: https://www.masterofmalt.com/liqueurs/ Pass~~\n",
    "\n",
    "Mixers: https://www.masterofmalt.com/mixers/\n",
    "\n",
    "No and low alcohol: https://www.masterofmalt.com/no-and-low/\n",
    "\n",
    "~~ Oak barrels: https://www.masterofmalt.com/barrel/american-white-oak-barrel/american-white-oak-barrel-1-litre-barrel/ Pass~~ \n",
    "\n",
    "Pre-bottled cocktails: https://www.masterofmalt.com/pre_bottled-cocktails/\n",
    "\n",
    "Syrups and cordials: https://www.masterofmalt.com/syrups-and-cordials/\n",
    "\n",
    "Vermouth: https://www.masterofmalt.com/vermouth/\n",
    "\n",
    "\n"
   ]
  },
  {
   "cell_type": "markdown",
   "id": "b7b04add",
   "metadata": {},
   "source": [
    "## Get data"
   ]
  },
  {
   "cell_type": "code",
   "execution_count": 1,
   "id": "4aecf64c",
   "metadata": {},
   "outputs": [],
   "source": [
    "import os\n",
    "import time\n",
    "import requests\n",
    "from bs4 import BeautifulSoup\n",
    "import pandas as pd\n",
    "\n",
    "folder_name = \"data\"\n",
    "\n",
    "if not os.path.exists(folder_name):\n",
    "    os.makedirs(folder_name)\n"
   ]
  },
  {
   "cell_type": "code",
   "execution_count": 2,
   "id": "667d9077",
   "metadata": {},
   "outputs": [],
   "source": [
    "\n",
    "\n",
    "headers = {\n",
    "    'User-Agent': 'Mozilla/5.0 (Windows NT 10.0; Win64; x64) AppleWebKit/537.36 (KHTML, like Gecko) Chrome/96.0.4664.110 Safari/537.36',\n",
    "    'Referer': 'https://www.masterofmalt.com/',\n",
    "    'Accept-Language': 'en-US,en;q=0.9',\n",
    "}\n",
    "\n",
    "name_lst = []\n",
    "specification_lst = []\n",
    "type_lst = []\n",
    "description_lst = []\n",
    "original_price_lst = []\n",
    "current_price_lst = []\n",
    "label_lst = []\n",
    "rating_lst = []\n",
    "\n",
    "category_url_dict = {\n",
    "    'Barware':'https://www.masterofmalt.com/barware/',\n",
    "    'Barware': 'https://www.masterofmalt.com/barware/',\n",
    "    'Bitters': 'https://www.masterofmalt.com/bitters/',\n",
    "    'Fruit_Purees': 'https://www.masterofmalt.com/fruit-purees/',\n",
    "    'Mixers': 'https://www.masterofmalt.com/mixers/',\n",
    "    'No_and_low_alcohol': 'https://www.masterofmalt.com/no-and-low/',\n",
    "    'Pre-bottled_cocktails': 'https://www.masterofmalt.com/pre_bottled-cocktails/',\n",
    "    'Syrups_and_cordials': 'https://www.masterofmalt.com/syrups-and-cordials/',\n",
    "    'Vermouth': 'https://www.masterofmalt.com/vermouth/',\n",
    "}\n"
   ]
  },
  {
   "cell_type": "code",
   "execution_count": 3,
   "id": "4498ee9f",
   "metadata": {},
   "outputs": [],
   "source": [
    "def get_one_category_data(prefix_url, category):\n",
    "    page = 1\n",
    "    fisrt_page_url = prefix_url + '1/'\n",
    "\n",
    "    while True:\n",
    "\n",
    "        # Send GET request and get the page content\n",
    "        url = f'{prefix_url}{page}/'\n",
    "        response = requests.get(url, headers=headers)\n",
    "        if page != 1 and response.url == fisrt_page_url:\n",
    "            break\n",
    "        html_content = response.content\n",
    "\n",
    "        page += 1\n",
    "        # Parse HTML content\n",
    "        soup = BeautifulSoup(html_content, 'html.parser')\n",
    "\n",
    "        # Parse product list\n",
    "        div_tag_lst = soup.find_all('div', class_=\"boxBgr product-box-wide h-gutter js-product-box-wide\")\n",
    "\n",
    "        item_index = '0'.zfill(2)\n",
    "        # Loop through each product\n",
    "        for div_tag in div_tag_lst:\n",
    "            # Get product name\n",
    "            name = div_tag.find('a').text.strip()\n",
    "\n",
    "            print(page,name)\n",
    "\n",
    "            # Get product specification\n",
    "            try:\n",
    "                specification = div_tag.find('div', class_='product-box-wide-volume').text.strip()\n",
    "            except:\n",
    "                specification = None\n",
    "\n",
    "            # Get product type\n",
    "            type = div_tag.find('a', class_='product-box-wide-distillery').text.strip()\n",
    "\n",
    "            # Get product description\n",
    "            try:\n",
    "                description = div_tag.find('p', id=f'ContentPlaceHolder1_ctl{item_index}_divDescription').text.strip()\n",
    "            except:\n",
    "                description = \"Can't get description\"\n",
    "\n",
    "            try:\n",
    "                # Get original price\n",
    "                original_price = div_tag.find('span',\n",
    "                                              id=f'ContentPlaceHolder1_ctl{item_index}_originalPrice').text.strip()\n",
    "                current_price = div_tag.find('span', class_='product-box-wide-price').text.strip()\n",
    "            except:\n",
    "                # # Get original price\n",
    "                original_price = None\n",
    "                # Get current price\n",
    "                try:\n",
    "                    current_price = div_tag.find('div', class_='product-box-wide-price gold').text.strip()\n",
    "                except:\n",
    "                    current_price = None\n",
    "\n",
    "            # Get label\n",
    "            try:\n",
    "                label = div_tag.find('span', class_='label-tag').text.strip()\n",
    "            except:\n",
    "                label = None\n",
    "\n",
    "            # Get rating\n",
    "            try:\n",
    "                rating = div_tag.find('div', class_='product-box-wide-rating-wrapper gold').span.get('title')[-4]\n",
    "            except:\n",
    "                rating = None\n",
    "\n",
    "            item_index = str(int(item_index) + 1).zfill(2)\n",
    "\n",
    "            name_lst.append(name)\n",
    "            specification_lst.append(specification)\n",
    "            type_lst.append(type)\n",
    "            description_lst.append(description)\n",
    "            original_price_lst.append(original_price)\n",
    "            current_price_lst.append(current_price)\n",
    "            label_lst.append(label)\n",
    "            rating_lst.append(rating)\n",
    "\n",
    "    # Create an empty DataFrame\n",
    "    df = pd.DataFrame(\n",
    "        {'name': name_lst, 'specification': specification_lst, 'type': type_lst, 'description': description_lst,\n",
    "         'original_price': original_price_lst, 'current_price': current_price_lst, 'label': label_lst,\n",
    "         'rating': rating_lst, 'category': category})\n",
    "\n",
    "    df.to_excel(f'data/{category}.xlsx', index=False)\n",
    "    time.sleep(3)\n"
   ]
  },
  {
   "cell_type": "code",
   "execution_count": 4,
   "id": "cb876e9d",
   "metadata": {},
   "outputs": [],
   "source": [
    "for category, prefix_url in category_url_dict.items():\n",
    "    get_one_category_data(prefix_url, category)\n"
   ]
  },
  {
   "cell_type": "markdown",
   "id": "e7c767c4",
   "metadata": {},
   "source": [
    "## Merge data"
   ]
  },
  {
   "cell_type": "code",
   "execution_count": 5,
   "id": "0ad6bf30",
   "metadata": {},
   "outputs": [],
   "source": [
    "import os\n",
    "import pandas as pd\n",
    "\n",
    "# Create a DataFrame\n",
    "df_all = pd.DataFrame()\n",
    "\n",
    "# Loop through all .xlsx files in the data folder\n",
    "for filename in os.listdir('data'):\n",
    "    if filename.endswith('.xlsx'):\n",
    "        # Read the Excel file\n",
    "        df = pd.read_excel(f'data/{filename}')\n",
    "        \n",
    "        # Add this DataFrame to df_all\n",
    "        df_all = pd.concat([df_all, df])\n",
    "# Save the result to a new Excel file\n",
    "df_all.to_excel('merged_data.xlsx', index=False)\n"
   ]
  },
  {
   "cell_type": "markdown",
   "id": "f4400a7b",
   "metadata": {},
   "source": [
    "# Data preprocessing and data analysis"
   ]
  },
  {
   "cell_type": "code",
   "execution_count": 6,
   "id": "56f25a68",
   "metadata": {},
   "outputs": [],
   "source": [
    "df_all = pd.read_excel('merged_data.xlsx')"
   ]
  },
  {
   "cell_type": "code",
   "execution_count": 7,
   "id": "a19b9c65",
   "metadata": {},
   "outputs": [],
   "source": [
    "df = df_all.copy()"
   ]
  },
  {
   "cell_type": "code",
   "execution_count": 8,
   "id": "3ae6e02c",
   "metadata": {},
   "outputs": [
    {
     "data": {
      "text/html": [
       "<div><div id=820d10df-c962-4c55-bac9-5509caa70db3 style=\"display:none; background-color:#9D6CFF; color:white; width:200px; height:30px; padding-left:5px; border-radius:4px; flex-direction:row; justify-content:space-around; align-items:center;\" onmouseover=\"this.style.backgroundColor='#BA9BF8'\" onmouseout=\"this.style.backgroundColor='#9D6CFF'\" onclick=\"window.commands?.execute('create-mitosheet-from-dataframe-output');\">See Full Dataframe in Mito</div> <script> if (window.commands?.hasCommand('create-mitosheet-from-dataframe-output')) document.getElementById('820d10df-c962-4c55-bac9-5509caa70db3').style.display = 'flex' </script> <table border=\"1\" class=\"dataframe\">\n",
       "  <thead>\n",
       "    <tr style=\"text-align: right;\">\n",
       "      <th></th>\n",
       "      <th>name</th>\n",
       "      <th>specification</th>\n",
       "      <th>type</th>\n",
       "      <th>description</th>\n",
       "      <th>original_price</th>\n",
       "      <th>current_price</th>\n",
       "      <th>label</th>\n",
       "      <th>rating</th>\n",
       "      <th>category</th>\n",
       "    </tr>\n",
       "  </thead>\n",
       "  <tbody>\n",
       "    <tr>\n",
       "      <th>0</th>\n",
       "      <td>Drinkworks Home Bar Bundle (£199 worth of pods and a free machine worth over £400)</td>\n",
       "      <td>320cl, 40.7%</td>\n",
       "      <td>Drinkworks</td>\n",
       "      <td>UK Only._x000D_\\nNow this is a bundle and a half! A whole host of Pods and a Drinkworks machine worth over £400, all for £199. We did the maths, and with this bundle you get enough for 64 delicious…  More info</td>\n",
       "      <td>£599</td>\n",
       "      <td>£199</td>\n",
       "      <td>Special Offer</td>\n",
       "      <td>NaN</td>\n",
       "      <td>Barware</td>\n",
       "    </tr>\n",
       "    <tr>\n",
       "      <th>1</th>\n",
       "      <td>Drinkworks Home Bar Bundle (£99 worth of pods and a free machine worth over £400)</td>\n",
       "      <td>160cl, 38.5%</td>\n",
       "      <td>Drinkworks</td>\n",
       "      <td>UK Only._x000D_\\nNow this is a bundle and a half! A whole host of Pods and a Drinkworks machine worth over £400, all for £99. We did the maths, and with this bundle you get enough for 32 delicious cocktails…  More info</td>\n",
       "      <td>£499</td>\n",
       "      <td>£99</td>\n",
       "      <td>Special Offer</td>\n",
       "      <td>NaN</td>\n",
       "      <td>Barware</td>\n",
       "    </tr>\n",
       "    <tr>\n",
       "      <th>2</th>\n",
       "      <td>Urban Bar Japanese Mixing Glass 70cl</td>\n",
       "      <td>NaN</td>\n",
       "      <td>Urban Bar</td>\n",
       "      <td>This Yarai mixing glass is a superb means of mixing a variety of drinks. Very smart-looking, these have a 700ml capacity. Part of Urban Bar's Japanese barware range._x000D_\\n_x000D_\\nPlease note: You'll want to…  More info</td>\n",
       "      <td>NaN</td>\n",
       "      <td>£22</td>\n",
       "      <td>Best Seller</td>\n",
       "      <td>NaN</td>\n",
       "      <td>Barware</td>\n",
       "    </tr>\n",
       "    <tr>\n",
       "      <th>3</th>\n",
       "      <td>Drinkworks Home Bar Cocktail Machine - *CLEARANCE SALE* (75% off!)</td>\n",
       "      <td>NaN</td>\n",
       "      <td>Drinkworks</td>\n",
       "      <td>UK Only._x000D_\\nYou know those snazzy coffee machines that make fancy coffees at home at the push of a button? Right, so, imagine that, but cocktails. The Drinkworks Home Bar is an astonishingly clever…  More info</td>\n",
       "      <td>£399</td>\n",
       "      <td>£99</td>\n",
       "      <td>Best Seller</td>\n",
       "      <td>5.0</td>\n",
       "      <td>Barware</td>\n",
       "    </tr>\n",
       "    <tr>\n",
       "      <th>4</th>\n",
       "      <td>Calabrese Cocktail Shaker</td>\n",
       "      <td>NaN</td>\n",
       "      <td>Calabrese</td>\n",
       "      <td>This is a beautiful all-metal two-piece cocktail shaker from Urban Bar. It was made in collaboration with one of the world's leading bartenders - Salvatore Calabrese - and has a 90cl capacity.  More info</td>\n",
       "      <td>NaN</td>\n",
       "      <td>£39.95</td>\n",
       "      <td>NaN</td>\n",
       "      <td>NaN</td>\n",
       "      <td>Barware</td>\n",
       "    </tr>\n",
       "  </tbody>\n",
       "</table></div>"
      ],
      "text/plain": [
       "                                                name specification  \\\n",
       "0  Drinkworks Home Bar Bundle (£199 worth of pods...  320cl, 40.7%   \n",
       "1  Drinkworks Home Bar Bundle (£99 worth of pods ...  160cl, 38.5%   \n",
       "2               Urban Bar Japanese Mixing Glass 70cl           NaN   \n",
       "3  Drinkworks Home Bar Cocktail Machine - *CLEARA...           NaN   \n",
       "4                          Calabrese Cocktail Shaker           NaN   \n",
       "\n",
       "         type                                        description  \\\n",
       "0  Drinkworks  UK Only._x000D_\\nNow this is a bundle and a ha...   \n",
       "1  Drinkworks  UK Only._x000D_\\nNow this is a bundle and a ha...   \n",
       "2   Urban Bar  This Yarai mixing glass is a superb means of m...   \n",
       "3  Drinkworks  UK Only._x000D_\\nYou know those snazzy coffee ...   \n",
       "4   Calabrese  This is a beautiful all-metal two-piece cockta...   \n",
       "\n",
       "  original_price current_price          label  rating category  \n",
       "0           £599          £199  Special Offer     NaN  Barware  \n",
       "1           £499           £99  Special Offer     NaN  Barware  \n",
       "2            NaN           £22    Best Seller     NaN  Barware  \n",
       "3           £399           £99    Best Seller     5.0  Barware  \n",
       "4            NaN        £39.95            NaN     NaN  Barware  "
      ]
     },
     "execution_count": 8,
     "metadata": {},
     "output_type": "execute_result"
    }
   ],
   "source": [
    "df.head()"
   ]
  },
  {
   "cell_type": "markdown",
   "id": "d9f2e3cf",
   "metadata": {},
   "source": [
    "Through the data preview above, the following problems can be observed:\n",
    "* 1. Volume data and alcohol content data are in the same cell.\n",
    "* 2. Price data is in string format and includes unit symbols.\n",
    "* 3. There are many empty cells.\n"
   ]
  },
  {
   "cell_type": "markdown",
   "id": "ddf8c97a",
   "metadata": {},
   "source": [
    "## Split volume and ABV"
   ]
  },
  {
   "cell_type": "code",
   "execution_count": 9,
   "id": "a619f9cf",
   "metadata": {},
   "outputs": [],
   "source": [
    "# Split the specification columns by commas\n",
    "df[['volume', 'ABV']] = df['specification'].str.split(',', 1, expand=True)\n",
    "# delete specification\n",
    "df.drop(columns=['specification'], inplace=True)\n"
   ]
  },
  {
   "cell_type": "code",
   "execution_count": 10,
   "id": "3591965b",
   "metadata": {},
   "outputs": [
    {
     "data": {
      "text/html": [
       "<div><div id=2090fcda-d7de-4865-bf96-fff406be9f4d style=\"display:none; background-color:#9D6CFF; color:white; width:200px; height:30px; padding-left:5px; border-radius:4px; flex-direction:row; justify-content:space-around; align-items:center;\" onmouseover=\"this.style.backgroundColor='#BA9BF8'\" onmouseout=\"this.style.backgroundColor='#9D6CFF'\" onclick=\"window.commands?.execute('create-mitosheet-from-dataframe-output');\">See Full Dataframe in Mito</div> <script> if (window.commands?.hasCommand('create-mitosheet-from-dataframe-output')) document.getElementById('2090fcda-d7de-4865-bf96-fff406be9f4d').style.display = 'flex' </script> <table border=\"1\" class=\"dataframe\">\n",
       "  <thead>\n",
       "    <tr style=\"text-align: right;\">\n",
       "      <th></th>\n",
       "      <th>name</th>\n",
       "      <th>type</th>\n",
       "      <th>description</th>\n",
       "      <th>original_price</th>\n",
       "      <th>current_price</th>\n",
       "      <th>label</th>\n",
       "      <th>rating</th>\n",
       "      <th>category</th>\n",
       "      <th>volume</th>\n",
       "      <th>ABV</th>\n",
       "    </tr>\n",
       "  </thead>\n",
       "  <tbody>\n",
       "    <tr>\n",
       "      <th>0</th>\n",
       "      <td>Drinkworks Home Bar Bundle (£199 worth of pods and a free machine worth over £400)</td>\n",
       "      <td>Drinkworks</td>\n",
       "      <td>UK Only._x000D_\\nNow this is a bundle and a half! A whole host of Pods and a Drinkworks machine worth over £400, all for £199. We did the maths, and with this bundle you get enough for 64 delicious…  More info</td>\n",
       "      <td>£599</td>\n",
       "      <td>£199</td>\n",
       "      <td>Special Offer</td>\n",
       "      <td>NaN</td>\n",
       "      <td>Barware</td>\n",
       "      <td>320cl</td>\n",
       "      <td>40.7%</td>\n",
       "    </tr>\n",
       "    <tr>\n",
       "      <th>1</th>\n",
       "      <td>Drinkworks Home Bar Bundle (£99 worth of pods and a free machine worth over £400)</td>\n",
       "      <td>Drinkworks</td>\n",
       "      <td>UK Only._x000D_\\nNow this is a bundle and a half! A whole host of Pods and a Drinkworks machine worth over £400, all for £99. We did the maths, and with this bundle you get enough for 32 delicious cocktails…  More info</td>\n",
       "      <td>£499</td>\n",
       "      <td>£99</td>\n",
       "      <td>Special Offer</td>\n",
       "      <td>NaN</td>\n",
       "      <td>Barware</td>\n",
       "      <td>160cl</td>\n",
       "      <td>38.5%</td>\n",
       "    </tr>\n",
       "    <tr>\n",
       "      <th>2</th>\n",
       "      <td>Urban Bar Japanese Mixing Glass 70cl</td>\n",
       "      <td>Urban Bar</td>\n",
       "      <td>This Yarai mixing glass is a superb means of mixing a variety of drinks. Very smart-looking, these have a 700ml capacity. Part of Urban Bar's Japanese barware range._x000D_\\n_x000D_\\nPlease note: You'll want to…  More info</td>\n",
       "      <td>NaN</td>\n",
       "      <td>£22</td>\n",
       "      <td>Best Seller</td>\n",
       "      <td>NaN</td>\n",
       "      <td>Barware</td>\n",
       "      <td>NaN</td>\n",
       "      <td>NaN</td>\n",
       "    </tr>\n",
       "    <tr>\n",
       "      <th>3</th>\n",
       "      <td>Drinkworks Home Bar Cocktail Machine - *CLEARANCE SALE* (75% off!)</td>\n",
       "      <td>Drinkworks</td>\n",
       "      <td>UK Only._x000D_\\nYou know those snazzy coffee machines that make fancy coffees at home at the push of a button? Right, so, imagine that, but cocktails. The Drinkworks Home Bar is an astonishingly clever…  More info</td>\n",
       "      <td>£399</td>\n",
       "      <td>£99</td>\n",
       "      <td>Best Seller</td>\n",
       "      <td>5.0</td>\n",
       "      <td>Barware</td>\n",
       "      <td>NaN</td>\n",
       "      <td>NaN</td>\n",
       "    </tr>\n",
       "    <tr>\n",
       "      <th>4</th>\n",
       "      <td>Calabrese Cocktail Shaker</td>\n",
       "      <td>Calabrese</td>\n",
       "      <td>This is a beautiful all-metal two-piece cocktail shaker from Urban Bar. It was made in collaboration with one of the world's leading bartenders - Salvatore Calabrese - and has a 90cl capacity.  More info</td>\n",
       "      <td>NaN</td>\n",
       "      <td>£39.95</td>\n",
       "      <td>NaN</td>\n",
       "      <td>NaN</td>\n",
       "      <td>Barware</td>\n",
       "      <td>NaN</td>\n",
       "      <td>NaN</td>\n",
       "    </tr>\n",
       "  </tbody>\n",
       "</table></div>"
      ],
      "text/plain": [
       "                                                name        type  \\\n",
       "0  Drinkworks Home Bar Bundle (£199 worth of pods...  Drinkworks   \n",
       "1  Drinkworks Home Bar Bundle (£99 worth of pods ...  Drinkworks   \n",
       "2               Urban Bar Japanese Mixing Glass 70cl   Urban Bar   \n",
       "3  Drinkworks Home Bar Cocktail Machine - *CLEARA...  Drinkworks   \n",
       "4                          Calabrese Cocktail Shaker   Calabrese   \n",
       "\n",
       "                                         description original_price  \\\n",
       "0  UK Only._x000D_\\nNow this is a bundle and a ha...           £599   \n",
       "1  UK Only._x000D_\\nNow this is a bundle and a ha...           £499   \n",
       "2  This Yarai mixing glass is a superb means of m...            NaN   \n",
       "3  UK Only._x000D_\\nYou know those snazzy coffee ...           £399   \n",
       "4  This is a beautiful all-metal two-piece cockta...            NaN   \n",
       "\n",
       "  current_price          label  rating category volume     ABV  \n",
       "0          £199  Special Offer     NaN  Barware  320cl   40.7%  \n",
       "1           £99  Special Offer     NaN  Barware  160cl   38.5%  \n",
       "2           £22    Best Seller     NaN  Barware    NaN     NaN  \n",
       "3           £99    Best Seller     5.0  Barware    NaN     NaN  \n",
       "4        £39.95            NaN     NaN  Barware    NaN     NaN  "
      ]
     },
     "execution_count": 10,
     "metadata": {},
     "output_type": "execute_result"
    }
   ],
   "source": [
    "df.head()"
   ]
  },
  {
   "cell_type": "markdown",
   "id": "b8b2e3d6",
   "metadata": {},
   "source": [
    "## Converts data that should be of numeric type and puts units into column names."
   ]
  },
  {
   "cell_type": "code",
   "execution_count": null,
   "id": "c2217d33",
   "metadata": {},
   "outputs": [],
   "source": []
  },
  {
   "cell_type": "code",
   "execution_count": 11,
   "id": "b392242c",
   "metadata": {},
   "outputs": [],
   "source": [
    "df['original_price'] = df['original_price'].str.replace('£', '').astype(float)\n",
    "df['current_price'] = df['current_price'].str.replace('£', '').astype(float).astype(float)\n",
    "df['volume'] = df['volume'].str.replace('cl', '').astype(float)\n",
    "df['ABV'] = df['ABV'].str.replace('%', '').astype(float)\n",
    "df = df.rename(columns={'original_price': 'original_price/£','current_price': 'current_price/£','volume': 'volume/cl','ABV': 'ABV/%'})"
   ]
  },
  {
   "cell_type": "code",
   "execution_count": 12,
   "id": "967ddf33",
   "metadata": {},
   "outputs": [
    {
     "data": {
      "text/html": [
       "<div><div id=e5e6ef9a-f379-4ca5-ad4f-674b022a2be7 style=\"display:none; background-color:#9D6CFF; color:white; width:200px; height:30px; padding-left:5px; border-radius:4px; flex-direction:row; justify-content:space-around; align-items:center;\" onmouseover=\"this.style.backgroundColor='#BA9BF8'\" onmouseout=\"this.style.backgroundColor='#9D6CFF'\" onclick=\"window.commands?.execute('create-mitosheet-from-dataframe-output');\">See Full Dataframe in Mito</div> <script> if (window.commands?.hasCommand('create-mitosheet-from-dataframe-output')) document.getElementById('e5e6ef9a-f379-4ca5-ad4f-674b022a2be7').style.display = 'flex' </script> <table border=\"1\" class=\"dataframe\">\n",
       "  <thead>\n",
       "    <tr style=\"text-align: right;\">\n",
       "      <th></th>\n",
       "      <th>name</th>\n",
       "      <th>type</th>\n",
       "      <th>description</th>\n",
       "      <th>original_price/£</th>\n",
       "      <th>current_price/£</th>\n",
       "      <th>label</th>\n",
       "      <th>rating</th>\n",
       "      <th>category</th>\n",
       "      <th>volume/cl</th>\n",
       "      <th>ABV/%</th>\n",
       "    </tr>\n",
       "  </thead>\n",
       "  <tbody>\n",
       "    <tr>\n",
       "      <th>0</th>\n",
       "      <td>Drinkworks Home Bar Bundle (£199 worth of pods and a free machine worth over £400)</td>\n",
       "      <td>Drinkworks</td>\n",
       "      <td>UK Only._x000D_\\nNow this is a bundle and a half! A whole host of Pods and a Drinkworks machine worth over £400, all for £199. We did the maths, and with this bundle you get enough for 64 delicious…  More info</td>\n",
       "      <td>599.0</td>\n",
       "      <td>199.00</td>\n",
       "      <td>Special Offer</td>\n",
       "      <td>NaN</td>\n",
       "      <td>Barware</td>\n",
       "      <td>320.0</td>\n",
       "      <td>40.7</td>\n",
       "    </tr>\n",
       "    <tr>\n",
       "      <th>1</th>\n",
       "      <td>Drinkworks Home Bar Bundle (£99 worth of pods and a free machine worth over £400)</td>\n",
       "      <td>Drinkworks</td>\n",
       "      <td>UK Only._x000D_\\nNow this is a bundle and a half! A whole host of Pods and a Drinkworks machine worth over £400, all for £99. We did the maths, and with this bundle you get enough for 32 delicious cocktails…  More info</td>\n",
       "      <td>499.0</td>\n",
       "      <td>99.00</td>\n",
       "      <td>Special Offer</td>\n",
       "      <td>NaN</td>\n",
       "      <td>Barware</td>\n",
       "      <td>160.0</td>\n",
       "      <td>38.5</td>\n",
       "    </tr>\n",
       "    <tr>\n",
       "      <th>2</th>\n",
       "      <td>Urban Bar Japanese Mixing Glass 70cl</td>\n",
       "      <td>Urban Bar</td>\n",
       "      <td>This Yarai mixing glass is a superb means of mixing a variety of drinks. Very smart-looking, these have a 700ml capacity. Part of Urban Bar's Japanese barware range._x000D_\\n_x000D_\\nPlease note: You'll want to…  More info</td>\n",
       "      <td>NaN</td>\n",
       "      <td>22.00</td>\n",
       "      <td>Best Seller</td>\n",
       "      <td>NaN</td>\n",
       "      <td>Barware</td>\n",
       "      <td>NaN</td>\n",
       "      <td>NaN</td>\n",
       "    </tr>\n",
       "    <tr>\n",
       "      <th>3</th>\n",
       "      <td>Drinkworks Home Bar Cocktail Machine - *CLEARANCE SALE* (75% off!)</td>\n",
       "      <td>Drinkworks</td>\n",
       "      <td>UK Only._x000D_\\nYou know those snazzy coffee machines that make fancy coffees at home at the push of a button? Right, so, imagine that, but cocktails. The Drinkworks Home Bar is an astonishingly clever…  More info</td>\n",
       "      <td>399.0</td>\n",
       "      <td>99.00</td>\n",
       "      <td>Best Seller</td>\n",
       "      <td>5.0</td>\n",
       "      <td>Barware</td>\n",
       "      <td>NaN</td>\n",
       "      <td>NaN</td>\n",
       "    </tr>\n",
       "    <tr>\n",
       "      <th>4</th>\n",
       "      <td>Calabrese Cocktail Shaker</td>\n",
       "      <td>Calabrese</td>\n",
       "      <td>This is a beautiful all-metal two-piece cocktail shaker from Urban Bar. It was made in collaboration with one of the world's leading bartenders - Salvatore Calabrese - and has a 90cl capacity.  More info</td>\n",
       "      <td>NaN</td>\n",
       "      <td>39.95</td>\n",
       "      <td>NaN</td>\n",
       "      <td>NaN</td>\n",
       "      <td>Barware</td>\n",
       "      <td>NaN</td>\n",
       "      <td>NaN</td>\n",
       "    </tr>\n",
       "    <tr>\n",
       "      <th>...</th>\n",
       "      <td>...</td>\n",
       "      <td>...</td>\n",
       "      <td>...</td>\n",
       "      <td>...</td>\n",
       "      <td>...</td>\n",
       "      <td>...</td>\n",
       "      <td>...</td>\n",
       "      <td>...</td>\n",
       "      <td>...</td>\n",
       "      <td>...</td>\n",
       "    </tr>\n",
       "    <tr>\n",
       "      <th>1396</th>\n",
       "      <td>Londinio Red Vermouth</td>\n",
       "      <td>Londinio</td>\n",
       "      <td>This is a red vermouth produced by the Londinio folks - the very same people behind the excellent Londinio Aperitivo and Londinio Amaro liqueurs. Certainly, this London-born vermouth will make for…  More info</td>\n",
       "      <td>NaN</td>\n",
       "      <td>19.24</td>\n",
       "      <td>NaN</td>\n",
       "      <td>5.0</td>\n",
       "      <td>Vermouth</td>\n",
       "      <td>75.0</td>\n",
       "      <td>16.0</td>\n",
       "    </tr>\n",
       "    <tr>\n",
       "      <th>1397</th>\n",
       "      <td>Atxa Red Vermouth</td>\n",
       "      <td>Atxa</td>\n",
       "      <td>A Spanish red vermouth made to an old family recipe, which takes a blend of a neutral wine and alcohol macerated with a selection of traditional botanicals including wormwood, gentian, and cherry to…  More info</td>\n",
       "      <td>NaN</td>\n",
       "      <td>16.95</td>\n",
       "      <td>NaN</td>\n",
       "      <td>NaN</td>\n",
       "      <td>Vermouth</td>\n",
       "      <td>100.0</td>\n",
       "      <td>15.0</td>\n",
       "    </tr>\n",
       "    <tr>\n",
       "      <th>1398</th>\n",
       "      <td>Golfo Vermut Tinto</td>\n",
       "      <td>Golfo</td>\n",
       "      <td>This interesting Spanish vermouth was made exclusively using Tempranillo grapes and aged in oak casks before bottling. Very intriguing stuff - we're expecting big things from you cocktail enthusiasts…  More info</td>\n",
       "      <td>NaN</td>\n",
       "      <td>25.24</td>\n",
       "      <td>NaN</td>\n",
       "      <td>4.0</td>\n",
       "      <td>Vermouth</td>\n",
       "      <td>75.0</td>\n",
       "      <td>15.0</td>\n",
       "    </tr>\n",
       "    <tr>\n",
       "      <th>1399</th>\n",
       "      <td>Quaglia Berto Vermouth di Torino Superiore Rosso 1L</td>\n",
       "      <td>Antica Distilleria Quaglia</td>\n",
       "      <td>Hey, Quaglia's Berto Vermouth di Torino Superiore Rosso is great, isn't it? Infusing all those herbs and spices like vanilla, juniper, and wormwood into the spirit for 60 days before blending it with…  More info</td>\n",
       "      <td>NaN</td>\n",
       "      <td>27.95</td>\n",
       "      <td>NaN</td>\n",
       "      <td>NaN</td>\n",
       "      <td>Vermouth</td>\n",
       "      <td>100.0</td>\n",
       "      <td>17.0</td>\n",
       "    </tr>\n",
       "    <tr>\n",
       "      <th>1400</th>\n",
       "      <td>Belsazar Vermouth Red</td>\n",
       "      <td>Belsazar</td>\n",
       "      <td>Belsazar Vermouth is produced in Germany, using wines from the South Baden region, a selection of herbs (wormwood in particular being a stand-out ingredient for the team behind Belsazar) and fruit…  More info</td>\n",
       "      <td>NaN</td>\n",
       "      <td>26.95</td>\n",
       "      <td>NaN</td>\n",
       "      <td>3.0</td>\n",
       "      <td>Vermouth</td>\n",
       "      <td>75.0</td>\n",
       "      <td>18.0</td>\n",
       "    </tr>\n",
       "  </tbody>\n",
       "</table></div>"
      ],
      "text/plain": [
       "                                                   name  \\\n",
       "0     Drinkworks Home Bar Bundle (£199 worth of pods...   \n",
       "1     Drinkworks Home Bar Bundle (£99 worth of pods ...   \n",
       "2                  Urban Bar Japanese Mixing Glass 70cl   \n",
       "3     Drinkworks Home Bar Cocktail Machine - *CLEARA...   \n",
       "4                             Calabrese Cocktail Shaker   \n",
       "...                                                 ...   \n",
       "1396                              Londinio Red Vermouth   \n",
       "1397                                  Atxa Red Vermouth   \n",
       "1398                                 Golfo Vermut Tinto   \n",
       "1399  Quaglia Berto Vermouth di Torino Superiore Ros...   \n",
       "1400                              Belsazar Vermouth Red   \n",
       "\n",
       "                            type  \\\n",
       "0                     Drinkworks   \n",
       "1                     Drinkworks   \n",
       "2                      Urban Bar   \n",
       "3                     Drinkworks   \n",
       "4                      Calabrese   \n",
       "...                          ...   \n",
       "1396                    Londinio   \n",
       "1397                        Atxa   \n",
       "1398                       Golfo   \n",
       "1399  Antica Distilleria Quaglia   \n",
       "1400                    Belsazar   \n",
       "\n",
       "                                            description  original_price/£  \\\n",
       "0     UK Only._x000D_\\nNow this is a bundle and a ha...             599.0   \n",
       "1     UK Only._x000D_\\nNow this is a bundle and a ha...             499.0   \n",
       "2     This Yarai mixing glass is a superb means of m...               NaN   \n",
       "3     UK Only._x000D_\\nYou know those snazzy coffee ...             399.0   \n",
       "4     This is a beautiful all-metal two-piece cockta...               NaN   \n",
       "...                                                 ...               ...   \n",
       "1396  This is a red vermouth produced by the Londini...               NaN   \n",
       "1397  A Spanish red vermouth made to an old family r...               NaN   \n",
       "1398  This interesting Spanish vermouth was made exc...               NaN   \n",
       "1399  Hey, Quaglia's Berto Vermouth di Torino Superi...               NaN   \n",
       "1400  Belsazar Vermouth is produced in Germany, usin...               NaN   \n",
       "\n",
       "      current_price/£          label  rating  category  volume/cl  ABV/%  \n",
       "0              199.00  Special Offer     NaN   Barware      320.0   40.7  \n",
       "1               99.00  Special Offer     NaN   Barware      160.0   38.5  \n",
       "2               22.00    Best Seller     NaN   Barware        NaN    NaN  \n",
       "3               99.00    Best Seller     5.0   Barware        NaN    NaN  \n",
       "4               39.95            NaN     NaN   Barware        NaN    NaN  \n",
       "...               ...            ...     ...       ...        ...    ...  \n",
       "1396            19.24            NaN     5.0  Vermouth       75.0   16.0  \n",
       "1397            16.95            NaN     NaN  Vermouth      100.0   15.0  \n",
       "1398            25.24            NaN     4.0  Vermouth       75.0   15.0  \n",
       "1399            27.95            NaN     NaN  Vermouth      100.0   17.0  \n",
       "1400            26.95            NaN     3.0  Vermouth       75.0   18.0  \n",
       "\n",
       "[1401 rows x 10 columns]"
      ]
     },
     "execution_count": 12,
     "metadata": {},
     "output_type": "execute_result"
    }
   ],
   "source": [
    "df"
   ]
  },
  {
   "cell_type": "markdown",
   "id": "b0dddd14",
   "metadata": {},
   "source": [
    "## The original price of a cocktail that has not been discounted should be the same as the current price."
   ]
  },
  {
   "cell_type": "code",
   "execution_count": 13,
   "id": "983075e3",
   "metadata": {},
   "outputs": [],
   "source": [
    "df['original_price/£'] = df['original_price/£'].fillna(df['current_price/£'])"
   ]
  },
  {
   "cell_type": "markdown",
   "id": "4ef887f3",
   "metadata": {},
   "source": [
    "## Delete rows where all columns are empty"
   ]
  },
  {
   "cell_type": "code",
   "execution_count": 14,
   "id": "afbffd37",
   "metadata": {},
   "outputs": [],
   "source": [
    "df.dropna(how='all', inplace=True)"
   ]
  },
  {
   "cell_type": "markdown",
   "id": "cda8f6d2",
   "metadata": {},
   "source": [
    "## Delete duplicate value"
   ]
  },
  {
   "cell_type": "code",
   "execution_count": 15,
   "id": "91b06527",
   "metadata": {},
   "outputs": [],
   "source": [
    "df = df.drop_duplicates()"
   ]
  },
  {
   "cell_type": "code",
   "execution_count": 16,
   "id": "1421a208",
   "metadata": {
    "scrolled": true
   },
   "outputs": [
    {
     "data": {
      "text/html": [
       "<div><div id=303c9a44-e5e0-40cb-99c3-fe394e5c9648 style=\"display:none; background-color:#9D6CFF; color:white; width:200px; height:30px; padding-left:5px; border-radius:4px; flex-direction:row; justify-content:space-around; align-items:center;\" onmouseover=\"this.style.backgroundColor='#BA9BF8'\" onmouseout=\"this.style.backgroundColor='#9D6CFF'\" onclick=\"window.commands?.execute('create-mitosheet-from-dataframe-output');\">See Full Dataframe in Mito</div> <script> if (window.commands?.hasCommand('create-mitosheet-from-dataframe-output')) document.getElementById('303c9a44-e5e0-40cb-99c3-fe394e5c9648').style.display = 'flex' </script> <table border=\"1\" class=\"dataframe\">\n",
       "  <thead>\n",
       "    <tr style=\"text-align: right;\">\n",
       "      <th></th>\n",
       "      <th>name</th>\n",
       "      <th>type</th>\n",
       "      <th>description</th>\n",
       "      <th>original_price/£</th>\n",
       "      <th>current_price/£</th>\n",
       "      <th>label</th>\n",
       "      <th>rating</th>\n",
       "      <th>category</th>\n",
       "      <th>volume/cl</th>\n",
       "      <th>ABV/%</th>\n",
       "    </tr>\n",
       "  </thead>\n",
       "  <tbody>\n",
       "    <tr>\n",
       "      <th>0</th>\n",
       "      <td>Drinkworks Home Bar Bundle (£199 worth of pods and a free machine worth over £400)</td>\n",
       "      <td>Drinkworks</td>\n",
       "      <td>UK Only._x000D_\\nNow this is a bundle and a half! A whole host of Pods and a Drinkworks machine worth over £400, all for £199. We did the maths, and with this bundle you get enough for 64 delicious…  More info</td>\n",
       "      <td>599.00</td>\n",
       "      <td>199.00</td>\n",
       "      <td>Special Offer</td>\n",
       "      <td>NaN</td>\n",
       "      <td>Barware</td>\n",
       "      <td>320.0</td>\n",
       "      <td>40.7</td>\n",
       "    </tr>\n",
       "    <tr>\n",
       "      <th>1</th>\n",
       "      <td>Drinkworks Home Bar Bundle (£99 worth of pods and a free machine worth over £400)</td>\n",
       "      <td>Drinkworks</td>\n",
       "      <td>UK Only._x000D_\\nNow this is a bundle and a half! A whole host of Pods and a Drinkworks machine worth over £400, all for £99. We did the maths, and with this bundle you get enough for 32 delicious cocktails…  More info</td>\n",
       "      <td>499.00</td>\n",
       "      <td>99.00</td>\n",
       "      <td>Special Offer</td>\n",
       "      <td>NaN</td>\n",
       "      <td>Barware</td>\n",
       "      <td>160.0</td>\n",
       "      <td>38.5</td>\n",
       "    </tr>\n",
       "    <tr>\n",
       "      <th>2</th>\n",
       "      <td>Urban Bar Japanese Mixing Glass 70cl</td>\n",
       "      <td>Urban Bar</td>\n",
       "      <td>This Yarai mixing glass is a superb means of mixing a variety of drinks. Very smart-looking, these have a 700ml capacity. Part of Urban Bar's Japanese barware range._x000D_\\n_x000D_\\nPlease note: You'll want to…  More info</td>\n",
       "      <td>22.00</td>\n",
       "      <td>22.00</td>\n",
       "      <td>Best Seller</td>\n",
       "      <td>NaN</td>\n",
       "      <td>Barware</td>\n",
       "      <td>NaN</td>\n",
       "      <td>NaN</td>\n",
       "    </tr>\n",
       "    <tr>\n",
       "      <th>3</th>\n",
       "      <td>Drinkworks Home Bar Cocktail Machine - *CLEARANCE SALE* (75% off!)</td>\n",
       "      <td>Drinkworks</td>\n",
       "      <td>UK Only._x000D_\\nYou know those snazzy coffee machines that make fancy coffees at home at the push of a button? Right, so, imagine that, but cocktails. The Drinkworks Home Bar is an astonishingly clever…  More info</td>\n",
       "      <td>399.00</td>\n",
       "      <td>99.00</td>\n",
       "      <td>Best Seller</td>\n",
       "      <td>5.0</td>\n",
       "      <td>Barware</td>\n",
       "      <td>NaN</td>\n",
       "      <td>NaN</td>\n",
       "    </tr>\n",
       "    <tr>\n",
       "      <th>4</th>\n",
       "      <td>Calabrese Cocktail Shaker</td>\n",
       "      <td>Calabrese</td>\n",
       "      <td>This is a beautiful all-metal two-piece cocktail shaker from Urban Bar. It was made in collaboration with one of the world's leading bartenders - Salvatore Calabrese - and has a 90cl capacity.  More info</td>\n",
       "      <td>39.95</td>\n",
       "      <td>39.95</td>\n",
       "      <td>NaN</td>\n",
       "      <td>NaN</td>\n",
       "      <td>Barware</td>\n",
       "      <td>NaN</td>\n",
       "      <td>NaN</td>\n",
       "    </tr>\n",
       "    <tr>\n",
       "      <th>...</th>\n",
       "      <td>...</td>\n",
       "      <td>...</td>\n",
       "      <td>...</td>\n",
       "      <td>...</td>\n",
       "      <td>...</td>\n",
       "      <td>...</td>\n",
       "      <td>...</td>\n",
       "      <td>...</td>\n",
       "      <td>...</td>\n",
       "      <td>...</td>\n",
       "    </tr>\n",
       "    <tr>\n",
       "      <th>1396</th>\n",
       "      <td>Londinio Red Vermouth</td>\n",
       "      <td>Londinio</td>\n",
       "      <td>This is a red vermouth produced by the Londinio folks - the very same people behind the excellent Londinio Aperitivo and Londinio Amaro liqueurs. Certainly, this London-born vermouth will make for…  More info</td>\n",
       "      <td>19.24</td>\n",
       "      <td>19.24</td>\n",
       "      <td>NaN</td>\n",
       "      <td>5.0</td>\n",
       "      <td>Vermouth</td>\n",
       "      <td>75.0</td>\n",
       "      <td>16.0</td>\n",
       "    </tr>\n",
       "    <tr>\n",
       "      <th>1397</th>\n",
       "      <td>Atxa Red Vermouth</td>\n",
       "      <td>Atxa</td>\n",
       "      <td>A Spanish red vermouth made to an old family recipe, which takes a blend of a neutral wine and alcohol macerated with a selection of traditional botanicals including wormwood, gentian, and cherry to…  More info</td>\n",
       "      <td>16.95</td>\n",
       "      <td>16.95</td>\n",
       "      <td>NaN</td>\n",
       "      <td>NaN</td>\n",
       "      <td>Vermouth</td>\n",
       "      <td>100.0</td>\n",
       "      <td>15.0</td>\n",
       "    </tr>\n",
       "    <tr>\n",
       "      <th>1398</th>\n",
       "      <td>Golfo Vermut Tinto</td>\n",
       "      <td>Golfo</td>\n",
       "      <td>This interesting Spanish vermouth was made exclusively using Tempranillo grapes and aged in oak casks before bottling. Very intriguing stuff - we're expecting big things from you cocktail enthusiasts…  More info</td>\n",
       "      <td>25.24</td>\n",
       "      <td>25.24</td>\n",
       "      <td>NaN</td>\n",
       "      <td>4.0</td>\n",
       "      <td>Vermouth</td>\n",
       "      <td>75.0</td>\n",
       "      <td>15.0</td>\n",
       "    </tr>\n",
       "    <tr>\n",
       "      <th>1399</th>\n",
       "      <td>Quaglia Berto Vermouth di Torino Superiore Rosso 1L</td>\n",
       "      <td>Antica Distilleria Quaglia</td>\n",
       "      <td>Hey, Quaglia's Berto Vermouth di Torino Superiore Rosso is great, isn't it? Infusing all those herbs and spices like vanilla, juniper, and wormwood into the spirit for 60 days before blending it with…  More info</td>\n",
       "      <td>27.95</td>\n",
       "      <td>27.95</td>\n",
       "      <td>NaN</td>\n",
       "      <td>NaN</td>\n",
       "      <td>Vermouth</td>\n",
       "      <td>100.0</td>\n",
       "      <td>17.0</td>\n",
       "    </tr>\n",
       "    <tr>\n",
       "      <th>1400</th>\n",
       "      <td>Belsazar Vermouth Red</td>\n",
       "      <td>Belsazar</td>\n",
       "      <td>Belsazar Vermouth is produced in Germany, using wines from the South Baden region, a selection of herbs (wormwood in particular being a stand-out ingredient for the team behind Belsazar) and fruit…  More info</td>\n",
       "      <td>26.95</td>\n",
       "      <td>26.95</td>\n",
       "      <td>NaN</td>\n",
       "      <td>3.0</td>\n",
       "      <td>Vermouth</td>\n",
       "      <td>75.0</td>\n",
       "      <td>18.0</td>\n",
       "    </tr>\n",
       "  </tbody>\n",
       "</table></div>"
      ],
      "text/plain": [
       "                                                   name  \\\n",
       "0     Drinkworks Home Bar Bundle (£199 worth of pods...   \n",
       "1     Drinkworks Home Bar Bundle (£99 worth of pods ...   \n",
       "2                  Urban Bar Japanese Mixing Glass 70cl   \n",
       "3     Drinkworks Home Bar Cocktail Machine - *CLEARA...   \n",
       "4                             Calabrese Cocktail Shaker   \n",
       "...                                                 ...   \n",
       "1396                              Londinio Red Vermouth   \n",
       "1397                                  Atxa Red Vermouth   \n",
       "1398                                 Golfo Vermut Tinto   \n",
       "1399  Quaglia Berto Vermouth di Torino Superiore Ros...   \n",
       "1400                              Belsazar Vermouth Red   \n",
       "\n",
       "                            type  \\\n",
       "0                     Drinkworks   \n",
       "1                     Drinkworks   \n",
       "2                      Urban Bar   \n",
       "3                     Drinkworks   \n",
       "4                      Calabrese   \n",
       "...                          ...   \n",
       "1396                    Londinio   \n",
       "1397                        Atxa   \n",
       "1398                       Golfo   \n",
       "1399  Antica Distilleria Quaglia   \n",
       "1400                    Belsazar   \n",
       "\n",
       "                                            description  original_price/£  \\\n",
       "0     UK Only._x000D_\\nNow this is a bundle and a ha...            599.00   \n",
       "1     UK Only._x000D_\\nNow this is a bundle and a ha...            499.00   \n",
       "2     This Yarai mixing glass is a superb means of m...             22.00   \n",
       "3     UK Only._x000D_\\nYou know those snazzy coffee ...            399.00   \n",
       "4     This is a beautiful all-metal two-piece cockta...             39.95   \n",
       "...                                                 ...               ...   \n",
       "1396  This is a red vermouth produced by the Londini...             19.24   \n",
       "1397  A Spanish red vermouth made to an old family r...             16.95   \n",
       "1398  This interesting Spanish vermouth was made exc...             25.24   \n",
       "1399  Hey, Quaglia's Berto Vermouth di Torino Superi...             27.95   \n",
       "1400  Belsazar Vermouth is produced in Germany, usin...             26.95   \n",
       "\n",
       "      current_price/£          label  rating  category  volume/cl  ABV/%  \n",
       "0              199.00  Special Offer     NaN   Barware      320.0   40.7  \n",
       "1               99.00  Special Offer     NaN   Barware      160.0   38.5  \n",
       "2               22.00    Best Seller     NaN   Barware        NaN    NaN  \n",
       "3               99.00    Best Seller     5.0   Barware        NaN    NaN  \n",
       "4               39.95            NaN     NaN   Barware        NaN    NaN  \n",
       "...               ...            ...     ...       ...        ...    ...  \n",
       "1396            19.24            NaN     5.0  Vermouth       75.0   16.0  \n",
       "1397            16.95            NaN     NaN  Vermouth      100.0   15.0  \n",
       "1398            25.24            NaN     4.0  Vermouth       75.0   15.0  \n",
       "1399            27.95            NaN     NaN  Vermouth      100.0   17.0  \n",
       "1400            26.95            NaN     3.0  Vermouth       75.0   18.0  \n",
       "\n",
       "[1401 rows x 10 columns]"
      ]
     },
     "execution_count": 16,
     "metadata": {},
     "output_type": "execute_result"
    }
   ],
   "source": [
    "df"
   ]
  },
  {
   "cell_type": "markdown",
   "id": "49b2c55e",
   "metadata": {},
   "source": [
    "## Now, the data can be analyzed further, although there are still many empty data, but these empty data does not affect the subsequent analysis."
   ]
  },
  {
   "cell_type": "markdown",
   "id": "ee366b49",
   "metadata": {},
   "source": [
    " "
   ]
  },
  {
   "cell_type": "code",
   "execution_count": 17,
   "id": "f5b09920",
   "metadata": {},
   "outputs": [],
   "source": [
    "from plotnine import *\n",
    "import matplotlib.pyplot as plt\n",
    "import numpy as np"
   ]
  },
  {
   "cell_type": "markdown",
   "id": "a849b169",
   "metadata": {},
   "source": [
    "# Analysis\n"
   ]
  },
  {
   "cell_type": "markdown",
   "id": "3a0bdb09",
   "metadata": {},
   "source": [
    "## Discount analysis"
   ]
  },
  {
   "cell_type": "code",
   "execution_count": 18,
   "id": "ddb53d11",
   "metadata": {},
   "outputs": [
    {
     "name": "stdout",
     "output_type": "stream",
     "text": [
      "Maximum discount: 80.16% (Drinkworks Home Bar Bundle (£99 worth of pods and a free machine worth over £400))\n",
      "Minimum discount: 0.00% (Urban Bar Japanese Mixing Glass 70cl)\n",
      "Average discount: 0.28%\n"
     ]
    }
   ],
   "source": [
    "import pandas as pd\n",
    "\n",
    "# Calculate the discount percentage\n",
    "df['discount_percent'] = (df['original_price/£'] - df['current_price/£']) / df['original_price/£'] * 100\n",
    "\n",
    "# Count the number of discounted and undiscounted items\n",
    "discounted_count = (df['current_price/£'] < df['original_price/£']).sum()\n",
    "undiscounted_count = (df['current_price/£'] == df['original_price/£']).sum()\n",
    "\n",
    "# Find the items with maximum and minimum discount\n",
    "max_discount = df.loc[df['discount_percent'].idxmax()]\n",
    "min_discount = df.loc[df['discount_percent'].idxmin()]\n",
    "\n",
    "# Calculate the average discount percentage\n",
    "avg_discount = df['discount_percent'].mean()\n",
    "\n",
    "# Output the results\n",
    "print(f\"Maximum discount: {max_discount['discount_percent']:.2f}% ({max_discount['name']})\")\n",
    "print(f\"Minimum discount: {min_discount['discount_percent']:.2f}% ({min_discount['name']})\")\n",
    "print(f\"Average discount: {avg_discount:.2f}%\")\n"
   ]
  },
  {
   "cell_type": "code",
   "execution_count": null,
   "id": "be3bd5e4",
   "metadata": {},
   "outputs": [],
   "source": []
  },
  {
   "cell_type": "markdown",
   "id": "583e7a36",
   "metadata": {},
   "source": [
    "## The average rating for all types of cocktails"
   ]
  },
  {
   "cell_type": "code",
   "execution_count": 19,
   "id": "5532d8ec",
   "metadata": {},
   "outputs": [
    {
     "data": {
      "image/png": "[encoded data removed]",
      "text/plain": [
       "<Figure size 432x288 with 1 Axes>"
      ]
     },
     "metadata": {
      "needs_background": "light"
     },
     "output_type": "display_data"
    }
   ],
   "source": [
    "import matplotlib.pyplot as plt\n",
    "\n",
    "category_ratings = df.groupby('category').mean()['rating']\n",
    "category_ratings.plot(kind='bar')\n",
    "plt.title('Average Rating by Category')\n",
    "plt.xlabel('Category')\n",
    "plt.ylabel('Average Rating')\n",
    "plt.show()\n"
   ]
  },
  {
   "cell_type": "markdown",
   "id": "de511fb9",
   "metadata": {},
   "source": [
    "## Average price of all types"
   ]
  },
  {
   "cell_type": "code",
   "execution_count": 20,
   "id": "e7d475be",
   "metadata": {},
   "outputs": [
    {
     "data": {
      "image/png": "[encoded data removed]",
      "text/plain": [
       "<Figure size 432x288 with 1 Axes>"
      ]
     },
     "metadata": {
      "needs_background": "light"
     },
     "output_type": "display_data"
    }
   ],
   "source": [
    "import matplotlib.pyplot as plt\n",
    "\n",
    "category_ratings = df.groupby('category').mean()['current_price/£']\n",
    "category_ratings.plot(kind='bar')\n",
    "plt.title('Average price by Category')\n",
    "plt.xlabel('Category')\n",
    "plt.ylabel('Average price')\n",
    "plt.show()\n"
   ]
  },
  {
   "cell_type": "code",
   "execution_count": null,
   "id": "c24b3edd",
   "metadata": {},
   "outputs": [],
   "source": []
  },
  {
   "cell_type": "markdown",
   "id": "37c6f6ea",
   "metadata": {},
   "source": [
    "## The relationship between discount degree and label"
   ]
  },
  {
   "cell_type": "code",
   "execution_count": 21,
   "id": "a5ecb025",
   "metadata": {},
   "outputs": [
    {
     "data": {
      "image/png": "[encoded data removed]",
      "text/plain": [
       "<Figure size 432x288 with 1 Axes>"
      ]
     },
     "metadata": {
      "needs_background": "light"
     },
     "output_type": "display_data"
    }
   ],
   "source": [
    "import seaborn as sns\n",
    "\n",
    "# Plot a scatter plot\n",
    "sns.scatterplot(data=df, x='discount_percent', y='label')\n",
    "\n",
    "# Add axis labels and title\n",
    "plt.xlabel('Discount Percent')\n",
    "plt.ylabel('Label')\n",
    "plt.title('Relationship between Discount Percent and Label')\n",
    "\n",
    "# Show the plot\n",
    "plt.show()\n"
   ]
  },
  {
   "cell_type": "markdown",
   "id": "25e04a1d",
   "metadata": {},
   "source": [
    "As can be seen from the figure, most cocktails with labels have Price discounts. Among them, the discount of products with Price Drop label is about 10%-20%, and the discount of cocktails with Speical Offer is great, about 60%-80%."
   ]
  },
  {
   "cell_type": "markdown",
   "id": "893f346c",
   "metadata": {},
   "source": [
    "##  Distilleries discounts on all kinds of cocktails"
   ]
  },
  {
   "cell_type": "code",
   "execution_count": 22,
   "id": "4d7f6b74",
   "metadata": {},
   "outputs": [],
   "source": [
    "top_10_types = df.groupby('type').count().sort_values(by='name', ascending=False).head(10)\n",
    "top_categories = df[df['type'].isin(top_10_types.index)].groupby(['type', 'category']).count()['name']\n",
    "tmp_lst = []\n",
    "for i in top_categories.index:\n",
    "    if i[0] not in tmp_lst:\n",
    "        tmp_lst.append(i[0])\n",
    "top_categories = df[df['type'].isin(top_10_types.index)].groupby(['type', 'category']).count()['name'].unstack()"
   ]
  },
  {
   "cell_type": "code",
   "execution_count": 23,
   "id": "058bd815",
   "metadata": {},
   "outputs": [],
   "source": [
    "type_discounts = df.groupby(['type', 'discount_percent']).mean()['current_price/£']\n",
    "type_discounts = type_discounts.groupby('type').mean()\n"
   ]
  },
  {
   "cell_type": "code",
   "execution_count": 28,
   "id": "738fc646",
   "metadata": {},
   "outputs": [
    {
     "data": {
      "image/png": "[encoded data removed]",
      "text/plain": [
       "<Figure size 432x288 with 1 Axes>"
      ]
     },
     "metadata": {
      "needs_background": "light"
     },
     "output_type": "display_data"
    }
   ],
   "source": [
    "type_discounts_top10 = type_discounts[tmp_lst]\n",
    "top_categories.plot(kind='bar', stacked=True)\n",
    "plt.legend(loc='best')\n",
    "plt.title('Top 10 Cocktail Distilleries and Categories')\n",
    "\n",
    "plt.ylabel('Count')\n",
    "type_discounts_top10.plot(kind='line', marker='o')\n",
    "plt.title('Average Discount Percentage by Top 10 Cocktail Types')\n",
    "plt.xlabel('Distillery')\n",
    "plt.ylabel('Discount Percentage')\n",
    "\n",
    "plt.xticks(rotation=90)\n",
    "for i, val in enumerate(type_discounts_top10):\n",
    "    plt.text(i, val, str(round(val,2)))\n",
    "\n",
    "plt.show()\n"
   ]
  },
  {
   "cell_type": "markdown",
   "id": "445d0470",
   "metadata": {},
   "source": [
    "* The figure above calculates the number and discount of various products from various manufacturers. The result shows that the highest discount is The Handmade Cocktail Company. The average discount of distilleriy is more than 40%, all of which are Pre-bottled_cocktails"
   ]
  },
  {
   "cell_type": "markdown",
   "id": "d953e615",
   "metadata": {},
   "source": [
    "\n",
    "## Feature correlation calculation is carried out for the data whose score item is not empty"
   ]
  },
  {
   "cell_type": "code",
   "execution_count": 25,
   "id": "f4866dcd",
   "metadata": {
    "scrolled": true
   },
   "outputs": [],
   "source": [
    "rating_df = df[~df['rating'].isna()]\n"
   ]
  },
  {
   "cell_type": "code",
   "execution_count": 26,
   "id": "2f315253",
   "metadata": {},
   "outputs": [
    {
     "data": {
      "text/plain": [
       "<AxesSubplot:>"
      ]
     },
     "execution_count": 26,
     "metadata": {},
     "output_type": "execute_result"
    },
    {
     "data": {
      "image/png": "[encoded data removed]",
      "text/plain": [
       "<Figure size 432x288 with 2 Axes>"
      ]
     },
     "metadata": {
      "needs_background": "light"
     },
     "output_type": "display_data"
    }
   ],
   "source": [
    "cols_to_analyze = ['type', 'current_price/£', 'rating', 'category', 'volume/cl', 'ABV/%', 'discount_percent']\n",
    "corr_matrix = rating_df[cols_to_analyze].corr()\n",
    "\n",
    "sns.heatmap(corr_matrix, annot=True, cmap='coolwarm')\n"
   ]
  },
  {
   "cell_type": "markdown",
   "id": "263db441",
   "metadata": {},
   "source": [
    "As can be seen from the correlation heatmap, discount ratio is correlated with price, and ABV and volume also show a positive correlation with price, that is, cocktails with higher alcohol content or larger volume are more expensive, while ABV is negatively correlated with discount intensity, and cocktails with higher alcohol content are less discount intensity. The ratings had some correlation with price, the strength of the offer, the size of the cocktail, and almost no correlation with alcohol content."
   ]
  },
  {
   "cell_type": "code",
   "execution_count": null,
   "id": "40171803",
   "metadata": {},
   "outputs": [],
   "source": []
  }
 ],
 "metadata": {
  "kernelspec": {
   "display_name": "Python 3 (ipykernel)",
   "language": "python",
   "name": "python3"
  },
  "language_info": {
   "codemirror_mode": {
    "name": "ipython",
    "version": 3
   },
   "file_extension": ".py",
   "mimetype": "text/x-python",
   "name": "python",
   "nbconvert_exporter": "python",
   "pygments_lexer": "ipython3",
   "version": "3.9.7"
  }
 },
 "nbformat": 4,
 "nbformat_minor": 5
}
